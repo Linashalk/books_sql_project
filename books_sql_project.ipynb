{
 "cells": [
  {
   "cell_type": "markdown",
   "metadata": {},
   "source": [
    "# Проект по SQL"
   ]
  },
  {
   "cell_type": "markdown",
   "metadata": {},
   "source": [
    "Коронавирус застал мир врасплох, изменив привычный порядок вещей. В свободное время жители городов больше не выходят на улицу, не посещают кафе и торговые центры. Зато стало больше времени для книг. Это заметили стартаперы — и бросились создавать приложения для тех, кто любит читать.\n",
    "\n",
    "Ваша компания решила быть на волне и купила крупный сервис для чтения книг по подписке. Ваша первая задача как аналитика — проанализировать базу данных. В ней — информация о книгах, издательствах, авторах, а также пользовательские обзоры книг. Эти данные помогут сформулировать ценностное предложение для нового продукта.\n",
    "\n",
    "**Цели исследования**\n",
    "\n",
    "Проанализировать базу данных и предоставить данные, которые помогут сформулировать ценностное предложение для нового приложения для тех, кто любит читать.\n",
    "\n",
    "**Описание данных**\n",
    "\n",
    "***Таблица books***\n",
    "\n",
    "Содержит данные о книгах:\n",
    "* book_id — идентификатор книги;\n",
    "* author_id — идентификатор автора;\n",
    "* title — название книги;\n",
    "* num_pages — количество страниц;\n",
    "* publication_date — дата публикации книги;\n",
    "* publisher_id — идентификатор издателя.\n",
    "\n",
    "***Таблица authors***\n",
    "\n",
    "Содержит данные об авторах:\n",
    "* author_id — идентификатор автора;\n",
    "* author — имя автора.\n",
    "\n",
    "***Таблица publishers***\n",
    "\n",
    "Содержит данные об издательствах:\n",
    "* publisher_id — идентификатор издательства;\n",
    "* publisher — название издательства;\n",
    "\n",
    "***Таблица ratings***\n",
    "\n",
    "Содержит данные о пользовательских оценках книг:\n",
    "* rating_id — идентификатор оценки;\n",
    "* book_id — идентификатор книги;\n",
    "* username — имя пользователя, оставившего оценку;\n",
    "* rating — оценка книги.\n",
    "\n",
    "***Таблица reviews***\n",
    "\n",
    "Содержит данные о пользовательских обзорах:\n",
    "* review_id — идентификатор обзора;\n",
    "* book_id — идентификатор книги;\n",
    "* username — имя автора обзора;\n",
    "* text — текст обзора.\n",
    "\n",
    "**Схема данных**\n",
    "\n",
    "https://pictures.s3.yandex.net/resources/scheme_1589269096.png\n",
    "\n",
    "**Задания**\n",
    "* Посчитайте, сколько книг вышло после 1 января 2000 года;\n",
    "* Для каждой книги посчитайте количество обзоров и среднюю оценку;\n",
    "* Определите издательство, которое выпустило наибольшее число книг толще 50 страниц — так вы исключите из анализа брошюры;\n",
    "* Определите автора с самой высокой средней оценкой книг — учитывайте только книги с 50 и более оценками;\n",
    "* Посчитайте среднее количество обзоров от пользователей, которые поставили больше 48 оценок.\n",
    "\n",
    "**Как выполнить задание?**\n",
    "* Опишите цели исследования;\n",
    "* Исследуйте таблицы — выведите первые строки;\n",
    "* Сделайте по одному SQL-запросу для решения каждого задания;\n",
    "* Выведите результаты каждого запроса в тетрадке;\n",
    "* Опишите выводы по каждой из решённых задач.\n",
    "\n",
    "**Примечания**\n",
    "* Не забывайте про функции, они упрощают работу;\n",
    "* Получите ответы, используя только язык запросов SQL. Pandas допускается только для хранения и вывода результатов."
   ]
  },
  {
   "cell_type": "markdown",
   "metadata": {},
   "source": [
    "## Загрузка данных и изучение общей информаии"
   ]
  },
  {
   "cell_type": "code",
   "execution_count": 1,
   "metadata": {},
   "outputs": [
    {
     "data": {
      "text/html": [
       "<div>\n",
       "<style scoped>\n",
       "    .dataframe tbody tr th:only-of-type {\n",
       "        vertical-align: middle;\n",
       "    }\n",
       "\n",
       "    .dataframe tbody tr th {\n",
       "        vertical-align: top;\n",
       "    }\n",
       "\n",
       "    .dataframe thead th {\n",
       "        text-align: right;\n",
       "    }\n",
       "</style>\n",
       "<table border=\"1\" class=\"dataframe\">\n",
       "  <thead>\n",
       "    <tr style=\"text-align: right;\">\n",
       "      <th></th>\n",
       "      <th>book_id</th>\n",
       "      <th>author_id</th>\n",
       "      <th>title</th>\n",
       "      <th>num_pages</th>\n",
       "      <th>publication_date</th>\n",
       "      <th>publisher_id</th>\n",
       "    </tr>\n",
       "  </thead>\n",
       "  <tbody>\n",
       "    <tr>\n",
       "      <th>0</th>\n",
       "      <td>1</td>\n",
       "      <td>546</td>\n",
       "      <td>'Salem's Lot</td>\n",
       "      <td>594</td>\n",
       "      <td>2005-11-01</td>\n",
       "      <td>93</td>\n",
       "    </tr>\n",
       "    <tr>\n",
       "      <th>1</th>\n",
       "      <td>2</td>\n",
       "      <td>465</td>\n",
       "      <td>1 000 Places to See Before You Die</td>\n",
       "      <td>992</td>\n",
       "      <td>2003-05-22</td>\n",
       "      <td>336</td>\n",
       "    </tr>\n",
       "    <tr>\n",
       "      <th>2</th>\n",
       "      <td>3</td>\n",
       "      <td>407</td>\n",
       "      <td>13 Little Blue Envelopes (Little Blue Envelope...</td>\n",
       "      <td>322</td>\n",
       "      <td>2010-12-21</td>\n",
       "      <td>135</td>\n",
       "    </tr>\n",
       "    <tr>\n",
       "      <th>3</th>\n",
       "      <td>4</td>\n",
       "      <td>82</td>\n",
       "      <td>1491: New Revelations of the Americas Before C...</td>\n",
       "      <td>541</td>\n",
       "      <td>2006-10-10</td>\n",
       "      <td>309</td>\n",
       "    </tr>\n",
       "    <tr>\n",
       "      <th>4</th>\n",
       "      <td>5</td>\n",
       "      <td>125</td>\n",
       "      <td>1776</td>\n",
       "      <td>386</td>\n",
       "      <td>2006-07-04</td>\n",
       "      <td>268</td>\n",
       "    </tr>\n",
       "  </tbody>\n",
       "</table>\n",
       "</div>"
      ],
      "text/plain": [
       "   book_id  author_id                                              title  \\\n",
       "0        1        546                                       'Salem's Lot   \n",
       "1        2        465                 1 000 Places to See Before You Die   \n",
       "2        3        407  13 Little Blue Envelopes (Little Blue Envelope...   \n",
       "3        4         82  1491: New Revelations of the Americas Before C...   \n",
       "4        5        125                                               1776   \n",
       "\n",
       "   num_pages publication_date  publisher_id  \n",
       "0        594       2005-11-01            93  \n",
       "1        992       2003-05-22           336  \n",
       "2        322       2010-12-21           135  \n",
       "3        541       2006-10-10           309  \n",
       "4        386       2006-07-04           268  "
      ]
     },
     "execution_count": 1,
     "metadata": {},
     "output_type": "execute_result"
    }
   ],
   "source": [
    "# Импортируем библиотеки\n",
    "import pandas as pd\n",
    "from sqlalchemy import text, create_engine\n",
    "# Устанавливаем параметры\n",
    "db_config = {'user': 'praktikum_student', # имя пользователя\n",
    "'pwd': 'Sdf4$2;d-d30pp', # пароль\n",
    "'host': 'rc1b-wcoijxj3yxfsf3fs.mdb.yandexcloud.net',\n",
    "'port': 6432, # порт подключения\n",
    "'db': 'data-analyst-final-project-db'} # название базы данных\n",
    "connection_string = 'postgresql://{user}:{pwd}@{host}:{port}/{db}'.format(**db_config)\n",
    "# Сохраняем коннектор\n",
    "engine = create_engine(connection_string, connect_args={'sslmode':'require'})\n",
    "# Чтобы выполнить SQL-запрос, используем Pandas\n",
    "query = '''SELECT * FROM books LIMIT 5'''\n",
    "con=engine.connect()\n",
    "pd.io.sql.read_sql(sql=text(query), con = con)\n"
   ]
  },
  {
   "cell_type": "code",
   "execution_count": 2,
   "metadata": {},
   "outputs": [
    {
     "data": {
      "text/html": [
       "<div>\n",
       "<style scoped>\n",
       "    .dataframe tbody tr th:only-of-type {\n",
       "        vertical-align: middle;\n",
       "    }\n",
       "\n",
       "    .dataframe tbody tr th {\n",
       "        vertical-align: top;\n",
       "    }\n",
       "\n",
       "    .dataframe thead th {\n",
       "        text-align: right;\n",
       "    }\n",
       "</style>\n",
       "<table border=\"1\" class=\"dataframe\">\n",
       "  <thead>\n",
       "    <tr style=\"text-align: right;\">\n",
       "      <th></th>\n",
       "      <th>author_id</th>\n",
       "      <th>author</th>\n",
       "    </tr>\n",
       "  </thead>\n",
       "  <tbody>\n",
       "    <tr>\n",
       "      <th>0</th>\n",
       "      <td>1</td>\n",
       "      <td>A.S. Byatt</td>\n",
       "    </tr>\n",
       "    <tr>\n",
       "      <th>1</th>\n",
       "      <td>2</td>\n",
       "      <td>Aesop/Laura Harris/Laura Gibbs</td>\n",
       "    </tr>\n",
       "    <tr>\n",
       "      <th>2</th>\n",
       "      <td>3</td>\n",
       "      <td>Agatha Christie</td>\n",
       "    </tr>\n",
       "    <tr>\n",
       "      <th>3</th>\n",
       "      <td>4</td>\n",
       "      <td>Alan Brennert</td>\n",
       "    </tr>\n",
       "    <tr>\n",
       "      <th>4</th>\n",
       "      <td>5</td>\n",
       "      <td>Alan Moore/David   Lloyd</td>\n",
       "    </tr>\n",
       "  </tbody>\n",
       "</table>\n",
       "</div>"
      ],
      "text/plain": [
       "   author_id                          author\n",
       "0          1                      A.S. Byatt\n",
       "1          2  Aesop/Laura Harris/Laura Gibbs\n",
       "2          3                 Agatha Christie\n",
       "3          4                   Alan Brennert\n",
       "4          5        Alan Moore/David   Lloyd"
      ]
     },
     "execution_count": 2,
     "metadata": {},
     "output_type": "execute_result"
    }
   ],
   "source": [
    "# Выведем таблицу authors\n",
    "query = '''SELECT * FROM authors LIMIT 5'''\n",
    "con=engine.connect()\n",
    "pd.io.sql.read_sql(sql=text(query), con = con)"
   ]
  },
  {
   "cell_type": "code",
   "execution_count": 3,
   "metadata": {},
   "outputs": [
    {
     "data": {
      "text/html": [
       "<div>\n",
       "<style scoped>\n",
       "    .dataframe tbody tr th:only-of-type {\n",
       "        vertical-align: middle;\n",
       "    }\n",
       "\n",
       "    .dataframe tbody tr th {\n",
       "        vertical-align: top;\n",
       "    }\n",
       "\n",
       "    .dataframe thead th {\n",
       "        text-align: right;\n",
       "    }\n",
       "</style>\n",
       "<table border=\"1\" class=\"dataframe\">\n",
       "  <thead>\n",
       "    <tr style=\"text-align: right;\">\n",
       "      <th></th>\n",
       "      <th>publisher_id</th>\n",
       "      <th>publisher</th>\n",
       "    </tr>\n",
       "  </thead>\n",
       "  <tbody>\n",
       "    <tr>\n",
       "      <th>0</th>\n",
       "      <td>1</td>\n",
       "      <td>Ace</td>\n",
       "    </tr>\n",
       "    <tr>\n",
       "      <th>1</th>\n",
       "      <td>2</td>\n",
       "      <td>Ace Book</td>\n",
       "    </tr>\n",
       "    <tr>\n",
       "      <th>2</th>\n",
       "      <td>3</td>\n",
       "      <td>Ace Books</td>\n",
       "    </tr>\n",
       "    <tr>\n",
       "      <th>3</th>\n",
       "      <td>4</td>\n",
       "      <td>Ace Hardcover</td>\n",
       "    </tr>\n",
       "    <tr>\n",
       "      <th>4</th>\n",
       "      <td>5</td>\n",
       "      <td>Addison Wesley Publishing Company</td>\n",
       "    </tr>\n",
       "  </tbody>\n",
       "</table>\n",
       "</div>"
      ],
      "text/plain": [
       "   publisher_id                          publisher\n",
       "0             1                                Ace\n",
       "1             2                           Ace Book\n",
       "2             3                          Ace Books\n",
       "3             4                      Ace Hardcover\n",
       "4             5  Addison Wesley Publishing Company"
      ]
     },
     "execution_count": 3,
     "metadata": {},
     "output_type": "execute_result"
    }
   ],
   "source": [
    "# Выведем таблицу publishers\n",
    "query = '''SELECT * FROM publishers LIMIT 5'''\n",
    "con=engine.connect()\n",
    "pd.io.sql.read_sql(sql=text(query), con = con)"
   ]
  },
  {
   "cell_type": "code",
   "execution_count": 4,
   "metadata": {},
   "outputs": [
    {
     "data": {
      "text/html": [
       "<div>\n",
       "<style scoped>\n",
       "    .dataframe tbody tr th:only-of-type {\n",
       "        vertical-align: middle;\n",
       "    }\n",
       "\n",
       "    .dataframe tbody tr th {\n",
       "        vertical-align: top;\n",
       "    }\n",
       "\n",
       "    .dataframe thead th {\n",
       "        text-align: right;\n",
       "    }\n",
       "</style>\n",
       "<table border=\"1\" class=\"dataframe\">\n",
       "  <thead>\n",
       "    <tr style=\"text-align: right;\">\n",
       "      <th></th>\n",
       "      <th>rating_id</th>\n",
       "      <th>book_id</th>\n",
       "      <th>username</th>\n",
       "      <th>rating</th>\n",
       "    </tr>\n",
       "  </thead>\n",
       "  <tbody>\n",
       "    <tr>\n",
       "      <th>0</th>\n",
       "      <td>1</td>\n",
       "      <td>1</td>\n",
       "      <td>ryanfranco</td>\n",
       "      <td>4</td>\n",
       "    </tr>\n",
       "    <tr>\n",
       "      <th>1</th>\n",
       "      <td>2</td>\n",
       "      <td>1</td>\n",
       "      <td>grantpatricia</td>\n",
       "      <td>2</td>\n",
       "    </tr>\n",
       "    <tr>\n",
       "      <th>2</th>\n",
       "      <td>3</td>\n",
       "      <td>1</td>\n",
       "      <td>brandtandrea</td>\n",
       "      <td>5</td>\n",
       "    </tr>\n",
       "    <tr>\n",
       "      <th>3</th>\n",
       "      <td>4</td>\n",
       "      <td>2</td>\n",
       "      <td>lorichen</td>\n",
       "      <td>3</td>\n",
       "    </tr>\n",
       "    <tr>\n",
       "      <th>4</th>\n",
       "      <td>5</td>\n",
       "      <td>2</td>\n",
       "      <td>mariokeller</td>\n",
       "      <td>2</td>\n",
       "    </tr>\n",
       "  </tbody>\n",
       "</table>\n",
       "</div>"
      ],
      "text/plain": [
       "   rating_id  book_id       username  rating\n",
       "0          1        1     ryanfranco       4\n",
       "1          2        1  grantpatricia       2\n",
       "2          3        1   brandtandrea       5\n",
       "3          4        2       lorichen       3\n",
       "4          5        2    mariokeller       2"
      ]
     },
     "execution_count": 4,
     "metadata": {},
     "output_type": "execute_result"
    }
   ],
   "source": [
    "# Выведем таблицу ratings\n",
    "query = '''SELECT * FROM ratings LIMIT 5'''\n",
    "con=engine.connect()\n",
    "pd.io.sql.read_sql(sql=text(query), con = con)"
   ]
  },
  {
   "cell_type": "code",
   "execution_count": 5,
   "metadata": {},
   "outputs": [
    {
     "data": {
      "text/html": [
       "<div>\n",
       "<style scoped>\n",
       "    .dataframe tbody tr th:only-of-type {\n",
       "        vertical-align: middle;\n",
       "    }\n",
       "\n",
       "    .dataframe tbody tr th {\n",
       "        vertical-align: top;\n",
       "    }\n",
       "\n",
       "    .dataframe thead th {\n",
       "        text-align: right;\n",
       "    }\n",
       "</style>\n",
       "<table border=\"1\" class=\"dataframe\">\n",
       "  <thead>\n",
       "    <tr style=\"text-align: right;\">\n",
       "      <th></th>\n",
       "      <th>review_id</th>\n",
       "      <th>book_id</th>\n",
       "      <th>username</th>\n",
       "      <th>text</th>\n",
       "    </tr>\n",
       "  </thead>\n",
       "  <tbody>\n",
       "    <tr>\n",
       "      <th>0</th>\n",
       "      <td>1</td>\n",
       "      <td>1</td>\n",
       "      <td>brandtandrea</td>\n",
       "      <td>Mention society tell send professor analysis. ...</td>\n",
       "    </tr>\n",
       "    <tr>\n",
       "      <th>1</th>\n",
       "      <td>2</td>\n",
       "      <td>1</td>\n",
       "      <td>ryanfranco</td>\n",
       "      <td>Foot glass pretty audience hit themselves. Amo...</td>\n",
       "    </tr>\n",
       "    <tr>\n",
       "      <th>2</th>\n",
       "      <td>3</td>\n",
       "      <td>2</td>\n",
       "      <td>lorichen</td>\n",
       "      <td>Listen treat keep worry. Miss husband tax but ...</td>\n",
       "    </tr>\n",
       "    <tr>\n",
       "      <th>3</th>\n",
       "      <td>4</td>\n",
       "      <td>3</td>\n",
       "      <td>johnsonamanda</td>\n",
       "      <td>Finally month interesting blue could nature cu...</td>\n",
       "    </tr>\n",
       "    <tr>\n",
       "      <th>4</th>\n",
       "      <td>5</td>\n",
       "      <td>3</td>\n",
       "      <td>scotttamara</td>\n",
       "      <td>Nation purpose heavy give wait song will. List...</td>\n",
       "    </tr>\n",
       "  </tbody>\n",
       "</table>\n",
       "</div>"
      ],
      "text/plain": [
       "   review_id  book_id       username  \\\n",
       "0          1        1   brandtandrea   \n",
       "1          2        1     ryanfranco   \n",
       "2          3        2       lorichen   \n",
       "3          4        3  johnsonamanda   \n",
       "4          5        3    scotttamara   \n",
       "\n",
       "                                                text  \n",
       "0  Mention society tell send professor analysis. ...  \n",
       "1  Foot glass pretty audience hit themselves. Amo...  \n",
       "2  Listen treat keep worry. Miss husband tax but ...  \n",
       "3  Finally month interesting blue could nature cu...  \n",
       "4  Nation purpose heavy give wait song will. List...  "
      ]
     },
     "execution_count": 5,
     "metadata": {},
     "output_type": "execute_result"
    }
   ],
   "source": [
    "# Выведем таблицу reviews\n",
    "query = '''SELECT * FROM reviews LIMIT 5'''\n",
    "con=engine.connect()\n",
    "pd.io.sql.read_sql(sql=text(query), con = con)"
   ]
  },
  {
   "cell_type": "markdown",
   "metadata": {},
   "source": [
    "## Выполнение заданий"
   ]
  },
  {
   "cell_type": "markdown",
   "metadata": {},
   "source": [
    "### Задание №1. Посчитайте, сколько книг вышло после 1 января 2000 года."
   ]
  },
  {
   "cell_type": "code",
   "execution_count": 6,
   "metadata": {},
   "outputs": [
    {
     "data": {
      "text/html": [
       "<div>\n",
       "<style scoped>\n",
       "    .dataframe tbody tr th:only-of-type {\n",
       "        vertical-align: middle;\n",
       "    }\n",
       "\n",
       "    .dataframe tbody tr th {\n",
       "        vertical-align: top;\n",
       "    }\n",
       "\n",
       "    .dataframe thead th {\n",
       "        text-align: right;\n",
       "    }\n",
       "</style>\n",
       "<table border=\"1\" class=\"dataframe\">\n",
       "  <thead>\n",
       "    <tr style=\"text-align: right;\">\n",
       "      <th></th>\n",
       "      <th>count</th>\n",
       "    </tr>\n",
       "  </thead>\n",
       "  <tbody>\n",
       "    <tr>\n",
       "      <th>0</th>\n",
       "      <td>819</td>\n",
       "    </tr>\n",
       "  </tbody>\n",
       "</table>\n",
       "</div>"
      ],
      "text/plain": [
       "   count\n",
       "0    819"
      ]
     },
     "execution_count": 6,
     "metadata": {},
     "output_type": "execute_result"
    }
   ],
   "source": [
    "query = '''\n",
    "SELECT COUNT(book_id)\n",
    "FROM books\n",
    "WHERE publication_date > '2000-01-01';\n",
    "'''\n",
    "con=engine.connect()\n",
    "pd.io.sql.read_sql(sql=text(query), con = con)"
   ]
  },
  {
   "cell_type": "markdown",
   "metadata": {},
   "source": [
    "**Вывод:**\n",
    "\n",
    "После 1 января 2000 года вышло 819 книг."
   ]
  },
  {
   "cell_type": "markdown",
   "metadata": {},
   "source": [
    "### Задание №2. Для каждой книги посчитайте количество обзоров и среднюю оценку"
   ]
  },
  {
   "cell_type": "code",
   "execution_count": 7,
   "metadata": {},
   "outputs": [
    {
     "data": {
      "text/html": [
       "<div>\n",
       "<style scoped>\n",
       "    .dataframe tbody tr th:only-of-type {\n",
       "        vertical-align: middle;\n",
       "    }\n",
       "\n",
       "    .dataframe tbody tr th {\n",
       "        vertical-align: top;\n",
       "    }\n",
       "\n",
       "    .dataframe thead th {\n",
       "        text-align: right;\n",
       "    }\n",
       "</style>\n",
       "<table border=\"1\" class=\"dataframe\">\n",
       "  <thead>\n",
       "    <tr style=\"text-align: right;\">\n",
       "      <th></th>\n",
       "      <th>title</th>\n",
       "      <th>review_count</th>\n",
       "      <th>avg_rating</th>\n",
       "    </tr>\n",
       "  </thead>\n",
       "  <tbody>\n",
       "    <tr>\n",
       "      <th>0</th>\n",
       "      <td>A Dirty Job (Grim Reaper  #1)</td>\n",
       "      <td>4</td>\n",
       "      <td>5.00</td>\n",
       "    </tr>\n",
       "    <tr>\n",
       "      <th>1</th>\n",
       "      <td>School's Out—Forever (Maximum Ride  #2)</td>\n",
       "      <td>3</td>\n",
       "      <td>5.00</td>\n",
       "    </tr>\n",
       "    <tr>\n",
       "      <th>2</th>\n",
       "      <td>Moneyball: The Art of Winning an Unfair Game</td>\n",
       "      <td>3</td>\n",
       "      <td>5.00</td>\n",
       "    </tr>\n",
       "    <tr>\n",
       "      <th>3</th>\n",
       "      <td>Arrows of the Queen (Heralds of Valdemar  #1)</td>\n",
       "      <td>2</td>\n",
       "      <td>5.00</td>\n",
       "    </tr>\n",
       "    <tr>\n",
       "      <th>4</th>\n",
       "      <td>Wherever You Go  There You Are: Mindfulness Me...</td>\n",
       "      <td>2</td>\n",
       "      <td>5.00</td>\n",
       "    </tr>\n",
       "    <tr>\n",
       "      <th>...</th>\n",
       "      <td>...</td>\n",
       "      <td>...</td>\n",
       "      <td>...</td>\n",
       "    </tr>\n",
       "    <tr>\n",
       "      <th>995</th>\n",
       "      <td>The World Is Flat: A Brief History of the Twen...</td>\n",
       "      <td>3</td>\n",
       "      <td>2.25</td>\n",
       "    </tr>\n",
       "    <tr>\n",
       "      <th>996</th>\n",
       "      <td>Drowning Ruth</td>\n",
       "      <td>3</td>\n",
       "      <td>2.00</td>\n",
       "    </tr>\n",
       "    <tr>\n",
       "      <th>997</th>\n",
       "      <td>His Excellency: George Washington</td>\n",
       "      <td>2</td>\n",
       "      <td>2.00</td>\n",
       "    </tr>\n",
       "    <tr>\n",
       "      <th>998</th>\n",
       "      <td>Junky</td>\n",
       "      <td>2</td>\n",
       "      <td>2.00</td>\n",
       "    </tr>\n",
       "    <tr>\n",
       "      <th>999</th>\n",
       "      <td>Harvesting the Heart</td>\n",
       "      <td>2</td>\n",
       "      <td>1.50</td>\n",
       "    </tr>\n",
       "  </tbody>\n",
       "</table>\n",
       "<p>1000 rows × 3 columns</p>\n",
       "</div>"
      ],
      "text/plain": [
       "                                                 title  review_count  \\\n",
       "0                        A Dirty Job (Grim Reaper  #1)             4   \n",
       "1              School's Out—Forever (Maximum Ride  #2)             3   \n",
       "2         Moneyball: The Art of Winning an Unfair Game             3   \n",
       "3        Arrows of the Queen (Heralds of Valdemar  #1)             2   \n",
       "4    Wherever You Go  There You Are: Mindfulness Me...             2   \n",
       "..                                                 ...           ...   \n",
       "995  The World Is Flat: A Brief History of the Twen...             3   \n",
       "996                                      Drowning Ruth             3   \n",
       "997                  His Excellency: George Washington             2   \n",
       "998                                              Junky             2   \n",
       "999                               Harvesting the Heart             2   \n",
       "\n",
       "     avg_rating  \n",
       "0          5.00  \n",
       "1          5.00  \n",
       "2          5.00  \n",
       "3          5.00  \n",
       "4          5.00  \n",
       "..          ...  \n",
       "995        2.25  \n",
       "996        2.00  \n",
       "997        2.00  \n",
       "998        2.00  \n",
       "999        1.50  \n",
       "\n",
       "[1000 rows x 3 columns]"
      ]
     },
     "execution_count": 7,
     "metadata": {},
     "output_type": "execute_result"
    }
   ],
   "source": [
    "query = '''\n",
    "SELECT b.title, \n",
    "       COUNT(DISTINCT rev.review_id) AS review_count, \n",
    "       AVG(ra.rating) AS avg_rating\n",
    "FROM books AS b\n",
    "LEFT JOIN reviews AS rev ON b.book_id = rev.book_id\n",
    "LEFT JOIN ratings AS ra ON b.book_id = ra.book_id\n",
    "GROUP BY b.book_id\n",
    "ORDER BY avg_rating DESC,\n",
    "         review_count DESC;\n",
    "'''\n",
    "con=engine.connect()\n",
    "pd.io.sql.read_sql(sql=text(query), con = con)"
   ]
  },
  {
   "cell_type": "markdown",
   "metadata": {},
   "source": [
    "**Вывод:**\n",
    "\n",
    "Для каждой книги было посчитано количество обзоров и средняя оценка. Максимальная оценка - 5.0, минимальная - 1.5. На первом месте книга A Dirty Job (Grim Reaper #1) с 4 обзорами на нее и средней оценкой 5.0, на последнем - книга Harvesting the Heart с 2 обзорами на нее и средней оценкой 1.5."
   ]
  },
  {
   "cell_type": "markdown",
   "metadata": {},
   "source": [
    "### Задание №3. Определите издательство, которое выпустило наибольшее число книг толще 50 страниц — так вы исключите из анализа брошюры"
   ]
  },
  {
   "cell_type": "code",
   "execution_count": 8,
   "metadata": {},
   "outputs": [
    {
     "data": {
      "text/html": [
       "<div>\n",
       "<style scoped>\n",
       "    .dataframe tbody tr th:only-of-type {\n",
       "        vertical-align: middle;\n",
       "    }\n",
       "\n",
       "    .dataframe tbody tr th {\n",
       "        vertical-align: top;\n",
       "    }\n",
       "\n",
       "    .dataframe thead th {\n",
       "        text-align: right;\n",
       "    }\n",
       "</style>\n",
       "<table border=\"1\" class=\"dataframe\">\n",
       "  <thead>\n",
       "    <tr style=\"text-align: right;\">\n",
       "      <th></th>\n",
       "      <th>publisher</th>\n",
       "      <th>books_count</th>\n",
       "    </tr>\n",
       "  </thead>\n",
       "  <tbody>\n",
       "    <tr>\n",
       "      <th>0</th>\n",
       "      <td>Penguin Books</td>\n",
       "      <td>42</td>\n",
       "    </tr>\n",
       "    <tr>\n",
       "      <th>1</th>\n",
       "      <td>Vintage</td>\n",
       "      <td>31</td>\n",
       "    </tr>\n",
       "    <tr>\n",
       "      <th>2</th>\n",
       "      <td>Grand Central Publishing</td>\n",
       "      <td>25</td>\n",
       "    </tr>\n",
       "  </tbody>\n",
       "</table>\n",
       "</div>"
      ],
      "text/plain": [
       "                  publisher  books_count\n",
       "0             Penguin Books           42\n",
       "1                   Vintage           31\n",
       "2  Grand Central Publishing           25"
      ]
     },
     "execution_count": 8,
     "metadata": {},
     "output_type": "execute_result"
    }
   ],
   "source": [
    "query = '''\n",
    "SELECT p.publisher, \n",
    "       COUNT(DISTINCT b.book_id) AS books_count\n",
    "FROM publishers AS p\n",
    "LEFT JOIN books AS b ON b.publisher_id = p.publisher_id\n",
    "WHERE b.num_pages > 50\n",
    "GROUP BY p.publisher\n",
    "ORDER BY books_count DESC\n",
    "LIMIT 3;\n",
    "'''\n",
    "con=engine.connect()\n",
    "pd.io.sql.read_sql(sql=text(query), con = con)\n"
   ]
  },
  {
   "cell_type": "markdown",
   "metadata": {},
   "source": [
    "**Вывод:**\n",
    "\n",
    "Для каждого издательства было посчитано количество книг толще 50 страниц. Издательство, которое выпустило наибольшее число книг толще 50 страниц - Penguin Books с 42 книгами. На втором месте - издательство Vintage с 31 книгой, на третьем месте - Grand Central Publishing с 25 книгами."
   ]
  },
  {
   "cell_type": "markdown",
   "metadata": {},
   "source": [
    "### Задание №4. Определите автора с самой высокой средней оценкой книг — учитывайте только книги с 50 и более оценками"
   ]
  },
  {
   "cell_type": "code",
   "execution_count": 9,
   "metadata": {},
   "outputs": [
    {
     "data": {
      "text/html": [
       "<div>\n",
       "<style scoped>\n",
       "    .dataframe tbody tr th:only-of-type {\n",
       "        vertical-align: middle;\n",
       "    }\n",
       "\n",
       "    .dataframe tbody tr th {\n",
       "        vertical-align: top;\n",
       "    }\n",
       "\n",
       "    .dataframe thead th {\n",
       "        text-align: right;\n",
       "    }\n",
       "</style>\n",
       "<table border=\"1\" class=\"dataframe\">\n",
       "  <thead>\n",
       "    <tr style=\"text-align: right;\">\n",
       "      <th></th>\n",
       "      <th>author</th>\n",
       "      <th>avg_rating</th>\n",
       "    </tr>\n",
       "  </thead>\n",
       "  <tbody>\n",
       "    <tr>\n",
       "      <th>0</th>\n",
       "      <td>J.K. Rowling/Mary GrandPré</td>\n",
       "      <td>4.287097</td>\n",
       "    </tr>\n",
       "    <tr>\n",
       "      <th>1</th>\n",
       "      <td>Markus Zusak/Cao Xuân Việt Khương</td>\n",
       "      <td>4.264151</td>\n",
       "    </tr>\n",
       "    <tr>\n",
       "      <th>2</th>\n",
       "      <td>J.R.R. Tolkien</td>\n",
       "      <td>4.246914</td>\n",
       "    </tr>\n",
       "  </tbody>\n",
       "</table>\n",
       "</div>"
      ],
      "text/plain": [
       "                              author  avg_rating\n",
       "0         J.K. Rowling/Mary GrandPré    4.287097\n",
       "1  Markus Zusak/Cao Xuân Việt Khương    4.264151\n",
       "2                     J.R.R. Tolkien    4.246914"
      ]
     },
     "execution_count": 9,
     "metadata": {},
     "output_type": "execute_result"
    }
   ],
   "source": [
    "query = '''\n",
    "SELECT a.author, \n",
    "       AVG(ra.rating) AS avg_rating\n",
    "FROM authors AS a\n",
    "LEFT JOIN books AS b ON b.author_id = a.author_id\n",
    "LEFT JOIN ratings AS ra ON ra.book_id = b.book_id\n",
    "WHERE ra.book_id IN (SELECT ra.book_id\n",
    "                     FROM ratings AS ra\n",
    "                     GROUP BY ra.book_id\n",
    "                     HAVING COUNT(ra.rating_id) >= 50)\n",
    "GROUP BY a.author\n",
    "ORDER BY avg_rating DESC\n",
    "LIMIT 3;\n",
    "'''\n",
    "con=engine.connect()\n",
    "pd.io.sql.read_sql(sql=text(query), con = con)\n"
   ]
  },
  {
   "cell_type": "markdown",
   "metadata": {},
   "source": [
    "**Вывод:**\n",
    "\n",
    "Для каждого автора была посчитана средняя оценка книг. Автор, который получил самую высокую среднюю оценку книг, - J.K. Rowling/Mary GrandPré с оценкой 4.28. На втором месте - Markus Zusak/Cao Xuân Việt Khương с оценкой 4.26, на третьем месте - J.R.R. Tolkien с оценкой 4.24."
   ]
  },
  {
   "cell_type": "markdown",
   "metadata": {},
   "source": [
    "### Задание №5. Посчитайте среднее количество обзоров от пользователей, которые поставили больше 48 оценок"
   ]
  },
  {
   "cell_type": "code",
   "execution_count": 10,
   "metadata": {},
   "outputs": [
    {
     "data": {
      "text/html": [
       "<div>\n",
       "<style scoped>\n",
       "    .dataframe tbody tr th:only-of-type {\n",
       "        vertical-align: middle;\n",
       "    }\n",
       "\n",
       "    .dataframe tbody tr th {\n",
       "        vertical-align: top;\n",
       "    }\n",
       "\n",
       "    .dataframe thead th {\n",
       "        text-align: right;\n",
       "    }\n",
       "</style>\n",
       "<table border=\"1\" class=\"dataframe\">\n",
       "  <thead>\n",
       "    <tr style=\"text-align: right;\">\n",
       "      <th></th>\n",
       "      <th>avg_review_count</th>\n",
       "    </tr>\n",
       "  </thead>\n",
       "  <tbody>\n",
       "    <tr>\n",
       "      <th>0</th>\n",
       "      <td>24.0</td>\n",
       "    </tr>\n",
       "  </tbody>\n",
       "</table>\n",
       "</div>"
      ],
      "text/plain": [
       "   avg_review_count\n",
       "0              24.0"
      ]
     },
     "execution_count": 10,
     "metadata": {},
     "output_type": "execute_result"
    }
   ],
   "source": [
    "query = '''\n",
    "WITH a AS (SELECT rev.username, \n",
    "                  COUNT(rev.review_id) AS review_count\n",
    "           FROM reviews AS rev\n",
    "           WHERE rev.username IN (SELECT r.username\n",
    "                                  FROM ratings AS r\n",
    "                                  GROUP BY r.username\n",
    "                                  HAVING COUNT(r.rating_id) > 48)\n",
    "           GROUP BY rev.username)\n",
    "SELECT AVG(review_count) AS avg_review_count \n",
    "FROM a\n",
    "'''\n",
    "con=engine.connect()\n",
    "pd.io.sql.read_sql(sql=text(query), con = con)"
   ]
  },
  {
   "cell_type": "markdown",
   "metadata": {},
   "source": [
    "**Вывод:**\n",
    "\n",
    "Среднее количество обзоров от пользователей, которые поставили больше 48 оценок, - 24."
   ]
  },
  {
   "cell_type": "markdown",
   "metadata": {},
   "source": [
    "## Вывод"
   ]
  },
  {
   "cell_type": "markdown",
   "metadata": {},
   "source": [
    "* После 1 января 2000 года вышло 819 книг.\n",
    "* Для каждой книги было посчитано количество обзоров и средняя оценка. Максимальная оценка - 5.0, минимальная - 1.5. На первом месте книга A Dirty Job (Grim Reaper #1) с 4 обзорами на нее и средней оценкой 5.0, на последнем - книга Harvesting the Heart с 2 обзорами на нее и средней оценкой 1.5.\n",
    "* Для каждого издательства было посчитано количество книг толще 50 страниц. Издательство, которое выпустило наибольшее число книг толще 50 страниц - Penguin Books с 42 книгами. На втором месте - издательство Vintage с 31 книгой, на третьем месте - Grand Central Publishing с 25 книгами.\n",
    "* Для каждого автора была посчитана средняя оценка книг. Автор, который получил самую высокую среднюю оценку книг, - J.K. Rowling/Mary GrandPré с оценкой 4.28. На втором месте - Markus Zusak/Cao Xuân Việt Khương с оценкой 4.26, на третьем месте - J.R.R. Tolkien с оценкой 4.24.\n",
    "* Среднее количество обзоров от пользователей, которые поставили больше 48 оценок, - 24."
   ]
  }
 ],
 "metadata": {
  "ExecuteTimeLog": [
   {
    "duration": 243,
    "start_time": "2023-10-22T20:13:44.578Z"
   },
   {
    "duration": 243,
    "start_time": "2023-10-22T20:13:52.712Z"
   },
   {
    "duration": 147,
    "start_time": "2023-10-22T20:21:37.379Z"
   },
   {
    "duration": 58,
    "start_time": "2023-10-22T20:22:23.576Z"
   },
   {
    "duration": 61,
    "start_time": "2023-10-22T20:22:38.255Z"
   },
   {
    "duration": 54,
    "start_time": "2023-10-22T20:23:38.434Z"
   },
   {
    "duration": 73,
    "start_time": "2023-10-22T20:30:38.518Z"
   },
   {
    "duration": 78,
    "start_time": "2023-10-22T20:31:30.872Z"
   },
   {
    "duration": 70,
    "start_time": "2023-10-22T20:31:48.449Z"
   },
   {
    "duration": 57,
    "start_time": "2023-10-22T20:32:04.885Z"
   },
   {
    "duration": 52,
    "start_time": "2023-10-22T20:32:14.641Z"
   },
   {
    "duration": 53,
    "start_time": "2023-10-22T20:33:27.218Z"
   },
   {
    "duration": 87,
    "start_time": "2023-10-22T20:35:15.597Z"
   },
   {
    "duration": 11656,
    "start_time": "2023-10-23T09:58:05.360Z"
   },
   {
    "duration": 44,
    "start_time": "2023-10-23T09:58:17.018Z"
   },
   {
    "duration": 13,
    "start_time": "2023-10-23T09:58:17.064Z"
   },
   {
    "duration": 38,
    "start_time": "2023-10-23T09:58:17.080Z"
   },
   {
    "duration": 33,
    "start_time": "2023-10-23T09:58:17.120Z"
   },
   {
    "duration": 20,
    "start_time": "2023-10-23T09:58:17.155Z"
   },
   {
    "duration": 106,
    "start_time": "2023-10-23T09:58:17.177Z"
   },
   {
    "duration": 24,
    "start_time": "2023-10-23T11:11:50.758Z"
   },
   {
    "duration": 50,
    "start_time": "2023-10-23T11:12:54.173Z"
   },
   {
    "duration": 50,
    "start_time": "2023-10-23T11:14:12.325Z"
   },
   {
    "duration": 97,
    "start_time": "2023-10-23T11:14:27.783Z"
   },
   {
    "duration": 34,
    "start_time": "2023-10-23T11:16:12.343Z"
   },
   {
    "duration": 33,
    "start_time": "2023-10-23T11:16:23.967Z"
   },
   {
    "duration": 23,
    "start_time": "2023-10-23T11:17:25.936Z"
   },
   {
    "duration": 33,
    "start_time": "2023-10-23T11:17:30.696Z"
   },
   {
    "duration": 31,
    "start_time": "2023-10-23T11:19:01.369Z"
   },
   {
    "duration": 26,
    "start_time": "2023-10-23T11:30:53.176Z"
   },
   {
    "duration": 17,
    "start_time": "2023-10-23T11:31:07.089Z"
   },
   {
    "duration": 20,
    "start_time": "2023-10-23T11:31:55.028Z"
   },
   {
    "duration": 15,
    "start_time": "2023-10-23T11:34:06.029Z"
   },
   {
    "duration": 26,
    "start_time": "2023-10-23T11:45:56.450Z"
   },
   {
    "duration": 23,
    "start_time": "2023-10-23T11:46:00.618Z"
   },
   {
    "duration": 29,
    "start_time": "2023-10-23T11:46:35.345Z"
   },
   {
    "duration": 80,
    "start_time": "2023-10-23T11:51:42.524Z"
   },
   {
    "duration": 22,
    "start_time": "2023-10-23T11:51:50.284Z"
   },
   {
    "duration": 61,
    "start_time": "2023-10-23T11:58:13.212Z"
   },
   {
    "duration": 68,
    "start_time": "2023-10-23T11:58:36.230Z"
   },
   {
    "duration": 59,
    "start_time": "2023-10-23T12:00:15.494Z"
   },
   {
    "duration": 27,
    "start_time": "2023-10-23T12:12:08.442Z"
   },
   {
    "duration": 25,
    "start_time": "2023-10-23T12:13:54.196Z"
   },
   {
    "duration": 23,
    "start_time": "2023-10-23T12:14:15.177Z"
   },
   {
    "duration": 200,
    "start_time": "2023-10-23T12:14:53.930Z"
   },
   {
    "duration": 56,
    "start_time": "2023-10-23T12:22:32.182Z"
   },
   {
    "duration": 22,
    "start_time": "2023-10-23T12:23:00.079Z"
   },
   {
    "duration": 59,
    "start_time": "2023-10-23T12:24:06.212Z"
   },
   {
    "duration": 49,
    "start_time": "2023-10-23T12:24:17.778Z"
   },
   {
    "duration": 13,
    "start_time": "2023-10-23T12:24:32.130Z"
   },
   {
    "duration": 17,
    "start_time": "2023-10-23T12:25:15.112Z"
   },
   {
    "duration": 24,
    "start_time": "2023-10-23T12:38:51.416Z"
   },
   {
    "duration": 25,
    "start_time": "2023-10-23T12:39:17.171Z"
   },
   {
    "duration": 22,
    "start_time": "2023-10-23T12:39:52.797Z"
   },
   {
    "duration": 58,
    "start_time": "2023-10-23T12:40:20.273Z"
   },
   {
    "duration": 23,
    "start_time": "2023-10-23T12:40:45.829Z"
   },
   {
    "duration": 25,
    "start_time": "2023-10-23T12:40:52.670Z"
   },
   {
    "duration": 61,
    "start_time": "2023-10-23T12:40:56.302Z"
   },
   {
    "duration": 60,
    "start_time": "2023-10-23T12:49:14.794Z"
   },
   {
    "duration": 0,
    "start_time": "2023-10-23T12:49:49.632Z"
   },
   {
    "duration": 30017,
    "start_time": "2023-10-23T12:49:58.026Z"
   },
   {
    "duration": 10180,
    "start_time": "2023-10-23T12:52:13.995Z"
   },
   {
    "duration": 39,
    "start_time": "2023-10-23T12:52:24.177Z"
   },
   {
    "duration": 12,
    "start_time": "2023-10-23T12:52:24.218Z"
   },
   {
    "duration": 44,
    "start_time": "2023-10-23T12:52:24.233Z"
   },
   {
    "duration": 13,
    "start_time": "2023-10-23T12:52:24.280Z"
   },
   {
    "duration": 30,
    "start_time": "2023-10-23T12:52:24.295Z"
   },
   {
    "duration": 46,
    "start_time": "2023-10-23T12:52:24.326Z"
   },
   {
    "duration": 15,
    "start_time": "2023-10-23T12:52:24.373Z"
   },
   {
    "duration": 65,
    "start_time": "2023-10-23T12:52:24.390Z"
   },
   {
    "duration": 209,
    "start_time": "2023-10-23T12:52:24.466Z"
   },
   {
    "duration": 96,
    "start_time": "2023-10-23T12:52:24.676Z"
   },
   {
    "duration": 22,
    "start_time": "2023-10-23T12:52:40.109Z"
   },
   {
    "duration": 58,
    "start_time": "2023-10-23T12:53:16.029Z"
   },
   {
    "duration": 24,
    "start_time": "2023-10-23T12:55:16.970Z"
   },
   {
    "duration": 8,
    "start_time": "2023-10-23T12:55:53.398Z"
   },
   {
    "duration": 39,
    "start_time": "2023-10-23T12:56:03.902Z"
   },
   {
    "duration": 52,
    "start_time": "2023-10-23T12:58:25.679Z"
   },
   {
    "duration": 23,
    "start_time": "2023-10-23T12:58:32.668Z"
   },
   {
    "duration": 59,
    "start_time": "2023-10-23T12:58:55.471Z"
   },
   {
    "duration": 58,
    "start_time": "2023-10-23T12:59:18.368Z"
   },
   {
    "duration": 34,
    "start_time": "2023-10-23T12:59:48.422Z"
   },
   {
    "duration": 40,
    "start_time": "2023-10-23T12:59:59.877Z"
   },
   {
    "duration": 5,
    "start_time": "2023-10-23T13:00:26.733Z"
   },
   {
    "duration": 136,
    "start_time": "2023-10-23T13:00:37.412Z"
   },
   {
    "duration": 162,
    "start_time": "2023-10-23T13:00:43.588Z"
   },
   {
    "duration": 94,
    "start_time": "2023-10-23T13:00:56.108Z"
   },
   {
    "duration": 24,
    "start_time": "2023-10-23T13:01:57.770Z"
   },
   {
    "duration": 37,
    "start_time": "2023-10-23T13:02:15.420Z"
   },
   {
    "duration": 20,
    "start_time": "2023-10-23T13:02:20.298Z"
   },
   {
    "duration": 34,
    "start_time": "2023-10-23T13:02:31.055Z"
   },
   {
    "duration": 24,
    "start_time": "2023-10-23T13:06:03.914Z"
   },
   {
    "duration": 16,
    "start_time": "2023-10-23T13:06:16.360Z"
   },
   {
    "duration": 20,
    "start_time": "2023-10-23T13:07:12.828Z"
   },
   {
    "duration": 16,
    "start_time": "2023-10-23T13:07:57.209Z"
   },
   {
    "duration": 15,
    "start_time": "2023-10-23T13:08:51.530Z"
   },
   {
    "duration": 16,
    "start_time": "2023-10-23T13:09:08.133Z"
   },
   {
    "duration": 16,
    "start_time": "2023-10-23T13:09:30.446Z"
   },
   {
    "duration": 4,
    "start_time": "2023-10-23T13:10:05.925Z"
   },
   {
    "duration": 111,
    "start_time": "2023-10-23T13:10:25.634Z"
   },
   {
    "duration": 136,
    "start_time": "2023-10-23T13:11:01.682Z"
   },
   {
    "duration": 9340,
    "start_time": "2023-10-23T13:19:41.437Z"
   },
   {
    "duration": 39,
    "start_time": "2023-10-23T13:19:50.780Z"
   },
   {
    "duration": 13,
    "start_time": "2023-10-23T13:19:50.821Z"
   },
   {
    "duration": 52,
    "start_time": "2023-10-23T13:19:50.837Z"
   },
   {
    "duration": 40,
    "start_time": "2023-10-23T13:19:50.890Z"
   },
   {
    "duration": 35,
    "start_time": "2023-10-23T13:19:50.932Z"
   },
   {
    "duration": 60,
    "start_time": "2023-10-23T13:19:50.969Z"
   },
   {
    "duration": 15,
    "start_time": "2023-10-23T13:19:51.031Z"
   },
   {
    "duration": 51,
    "start_time": "2023-10-23T13:19:51.048Z"
   },
   {
    "duration": 16,
    "start_time": "2023-10-23T13:19:51.102Z"
   },
   {
    "duration": 10495,
    "start_time": "2023-10-23T18:37:06.970Z"
   },
   {
    "duration": 138,
    "start_time": "2023-10-23T18:37:17.467Z"
   },
   {
    "duration": 54,
    "start_time": "2023-10-23T18:37:17.607Z"
   },
   {
    "duration": 53,
    "start_time": "2023-10-23T18:37:17.663Z"
   },
   {
    "duration": 57,
    "start_time": "2023-10-23T18:37:17.718Z"
   },
   {
    "duration": 52,
    "start_time": "2023-10-23T18:37:17.777Z"
   },
   {
    "duration": 103,
    "start_time": "2023-10-23T18:37:17.831Z"
   },
   {
    "duration": 66,
    "start_time": "2023-10-23T18:37:17.935Z"
   },
   {
    "duration": 58,
    "start_time": "2023-10-23T18:37:18.003Z"
   },
   {
    "duration": 54,
    "start_time": "2023-10-23T18:37:18.063Z"
   },
   {
    "duration": 7575,
    "start_time": "2024-08-05T16:28:51.904Z"
   },
   {
    "duration": 133,
    "start_time": "2024-08-05T16:28:59.481Z"
   },
   {
    "duration": 53,
    "start_time": "2024-08-05T16:28:59.616Z"
   },
   {
    "duration": 55,
    "start_time": "2024-08-05T16:28:59.671Z"
   },
   {
    "duration": 54,
    "start_time": "2024-08-05T16:28:59.728Z"
   },
   {
    "duration": 53,
    "start_time": "2024-08-05T16:28:59.784Z"
   },
   {
    "duration": 92,
    "start_time": "2024-08-05T16:28:59.839Z"
   },
   {
    "duration": 57,
    "start_time": "2024-08-05T16:28:59.933Z"
   },
   {
    "duration": 68,
    "start_time": "2024-08-05T16:28:59.991Z"
   },
   {
    "duration": 59,
    "start_time": "2024-08-05T16:29:00.062Z"
   }
  ],
  "kernelspec": {
   "display_name": "Python 3 (ipykernel)",
   "language": "python",
   "name": "python3"
  },
  "language_info": {
   "codemirror_mode": {
    "name": "ipython",
    "version": 3
   },
   "file_extension": ".py",
   "mimetype": "text/x-python",
   "name": "python",
   "nbconvert_exporter": "python",
   "pygments_lexer": "ipython3",
   "version": "3.9.5"
  },
  "toc": {
   "base_numbering": 1,
   "nav_menu": {},
   "number_sections": true,
   "sideBar": true,
   "skip_h1_title": true,
   "title_cell": "Table of Contents",
   "title_sidebar": "Contents",
   "toc_cell": false,
   "toc_position": {
    "height": "calc(100% - 180px)",
    "left": "10px",
    "top": "150px",
    "width": "165px"
   },
   "toc_section_display": true,
   "toc_window_display": true
  }
 },
 "nbformat": 4,
 "nbformat_minor": 2
}
